{
 "cells": [
  {
   "cell_type": "code",
   "execution_count": null,
   "id": "37a9074f-c30b-4216-93e8-98086414907d",
   "metadata": {},
   "outputs": [],
   "source": [
    "(1) RESERVED KEYWORD : "
   ]
  },
  {
   "cell_type": "code",
   "execution_count": null,
   "id": "427da61e-cbd9-4cf7-8236-871b545a8045",
   "metadata": {},
   "outputs": [],
   "source": [
    "python keywords are special reserved words that have specific meaning and purposes and can't be used for anything but those speciffic purposes"
   ]
  },
  {
   "cell_type": "code",
   "execution_count": null,
   "id": "ddab3b20-89d4-4fe5-b640-d2abd9e21436",
   "metadata": {},
   "outputs": [],
   "source": [
    "# Point to remember: you cannot use a Keyword as a variable name; otherwise , it creates a conflict for the interpreter while the executing the code."
   ]
  },
  {
   "cell_type": "code",
   "execution_count": null,
   "id": "fc33fee9-3557-4c59-b672-7cc9fd3164c1",
   "metadata": {},
   "outputs": [],
   "source": []
  },
  {
   "cell_type": "code",
   "execution_count": 1,
   "id": "609beb9f-6b1a-461d-903b-5bf8b592d6c3",
   "metadata": {},
   "outputs": [
    {
     "name": "stdout",
     "output_type": "stream",
     "text": [
      "['False', 'None', 'True', 'and', 'as', 'assert', 'async', 'await', 'break', 'class', 'continue', 'def', 'del', 'elif', 'else', 'except', 'finally', 'for', 'from', 'global', 'if', 'import', 'in', 'is', 'lambda', 'nonlocal', 'not', 'or', 'pass', 'raise', 'return', 'try', 'while', 'with', 'yield']\n"
     ]
    }
   ],
   "source": [
    "import keyword\n",
    "print(keyword.kwlist)"
   ]
  },
  {
   "cell_type": "code",
   "execution_count": 2,
   "id": "c17e2941-1824-45c7-8e75-fd51e4dd6244",
   "metadata": {},
   "outputs": [
    {
     "data": {
      "text/plain": [
       "35"
      ]
     },
     "execution_count": 2,
     "metadata": {},
     "output_type": "execute_result"
    }
   ],
   "source": [
    "len(keyword.kwlist)"
   ]
  },
  {
   "cell_type": "code",
   "execution_count": null,
   "id": "c4a18e4e-b25f-4a3e-8520-bb6539dc1a71",
   "metadata": {},
   "outputs": [],
   "source": [
    "Category                  |  Keywords                         |\n",
    "--------------------------|-----------------------------------|\n",
    "Control Flow              | if, else, elif, for, while, break,\n",
    "                          |,continue, pass\n",
    "---------------------------------------------------------------|\n",
    "Exception Handling        | try, except, finally, raise\n",
    "---------------------------------------------------------------|\n",
    "Function                  | def, return, lambda\n",
    "---------------------------------------------------------------|\n",
    "Data Type and Variable    | True, False, None, and, or, not, global |\n",
    "----------------------------------------------------------------------|\n",
    "Context Manager           | with\n",
    "----------------------------------------------------------------------|\n",
    "Class and Object          | class , is, in, not in\n",
    "----------------------------------------------------------------------|\n",
    "Loop Control              | break, continue\n",
    "----------------------------------------------------------------------|\n",
    "Others                    | assert, del, from, import, pass, yield    |\n",
    "----------------------------------------------------------------------|"
   ]
  },
  {
   "cell_type": "code",
   "execution_count": 3,
   "id": "d88de758-6450-4e1c-9dcf-9871e1d637b4",
   "metadata": {},
   "outputs": [
    {
     "ename": "SyntaxError",
     "evalue": "invalid syntax (2632087083.py, line 1)",
     "output_type": "error",
     "traceback": [
      "\u001b[1;36m  Cell \u001b[1;32mIn[3], line 1\u001b[1;36m\u001b[0m\n\u001b[1;33m    while = 3\u001b[0m\n\u001b[1;37m          ^\u001b[0m\n\u001b[1;31mSyntaxError\u001b[0m\u001b[1;31m:\u001b[0m invalid syntax\n"
     ]
    }
   ],
   "source": [
    "while = 3"
   ]
  },
  {
   "cell_type": "code",
   "execution_count": 4,
   "id": "3bf9ff04-38f6-4fbc-bbaf-3607371e5153",
   "metadata": {},
   "outputs": [
    {
     "ename": "SyntaxError",
     "evalue": "invalid syntax (2046953698.py, line 1)",
     "output_type": "error",
     "traceback": [
      "\u001b[1;36m  Cell \u001b[1;32mIn[4], line 1\u001b[1;36m\u001b[0m\n\u001b[1;33m    for = 4\u001b[0m\n\u001b[1;37m        ^\u001b[0m\n\u001b[1;31mSyntaxError\u001b[0m\u001b[1;31m:\u001b[0m invalid syntax\n"
     ]
    }
   ],
   "source": [
    "for = 4"
   ]
  },
  {
   "cell_type": "code",
   "execution_count": null,
   "id": "46798c2c-35d5-415c-a3fb-ff1ff2977fdd",
   "metadata": {},
   "outputs": [],
   "source": []
  },
  {
   "cell_type": "code",
   "execution_count": null,
   "id": "95e20104-7a45-403e-baa7-b055b4757742",
   "metadata": {},
   "outputs": [],
   "source": []
  },
  {
   "cell_type": "code",
   "execution_count": null,
   "id": "43b271c1-e882-4ba7-b82e-c5e3f6a96e4f",
   "metadata": {},
   "outputs": [],
   "source": []
  },
  {
   "cell_type": "code",
   "execution_count": null,
   "id": "62b4a642-0b77-437e-8663-9347f75eadc7",
   "metadata": {},
   "outputs": [],
   "source": []
  },
  {
   "cell_type": "code",
   "execution_count": null,
   "id": "1a3fc64c-beaa-460f-85ad-e31d956defec",
   "metadata": {},
   "outputs": [],
   "source": []
  },
  {
   "cell_type": "code",
   "execution_count": null,
   "id": "aa881cfa-b274-46ff-844f-825387d46296",
   "metadata": {},
   "outputs": [],
   "source": []
  },
  {
   "cell_type": "code",
   "execution_count": null,
   "id": "436bf36b-06ad-4c5b-985f-11e5be025372",
   "metadata": {},
   "outputs": [],
   "source": []
  },
  {
   "cell_type": "code",
   "execution_count": null,
   "id": "f728b77d-745a-4a7e-abad-4ffa8040ed60",
   "metadata": {},
   "outputs": [],
   "source": []
  },
  {
   "cell_type": "code",
   "execution_count": null,
   "id": "90284720-48ab-4080-8f6d-7aff99be9f8d",
   "metadata": {},
   "outputs": [],
   "source": []
  },
  {
   "cell_type": "code",
   "execution_count": null,
   "id": "8af4d938-2707-4511-a445-896450aa2816",
   "metadata": {},
   "outputs": [],
   "source": []
  },
  {
   "cell_type": "code",
   "execution_count": null,
   "id": "438a8f2c-f8f7-4f75-9982-a9d1684a3b34",
   "metadata": {},
   "outputs": [],
   "source": []
  },
  {
   "cell_type": "code",
   "execution_count": null,
   "id": "12588e0d-a0e1-413a-b9c6-196eb63fdcd8",
   "metadata": {},
   "outputs": [],
   "source": []
  },
  {
   "cell_type": "code",
   "execution_count": null,
   "id": "ae97c1cf-aec8-48f0-b233-b0d2defb98b3",
   "metadata": {},
   "outputs": [],
   "source": []
  }
 ],
 "metadata": {
  "kernelspec": {
   "display_name": "Python 3 (ipykernel)",
   "language": "python",
   "name": "python3"
  },
  "language_info": {
   "codemirror_mode": {
    "name": "ipython",
    "version": 3
   },
   "file_extension": ".py",
   "mimetype": "text/x-python",
   "name": "python",
   "nbconvert_exporter": "python",
   "pygments_lexer": "ipython3",
   "version": "3.12.7"
  }
 },
 "nbformat": 4,
 "nbformat_minor": 5
}
